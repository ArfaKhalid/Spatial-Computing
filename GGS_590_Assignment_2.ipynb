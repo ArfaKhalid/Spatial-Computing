{
  "nbformat": 4,
  "nbformat_minor": 0,
  "metadata": {
    "colab": {
      "provenance": []
    },
    "kernelspec": {
      "name": "python3",
      "display_name": "Python 3"
    },
    "language_info": {
      "name": "python"
    }
  },
  "cells": [
    {
      "cell_type": "markdown",
      "source": [
        "# Task 1\n",
        "Create one list of tuples and one list of lists representing a set of 5 point coordinates each. Iterate over the contents of each data structure."
      ],
      "metadata": {
        "id": "gq731TgRytws"
      }
    },
    {
      "cell_type": "code",
      "execution_count": 15,
      "metadata": {
        "colab": {
          "base_uri": "https://localhost:8080/",
          "height": 0
        },
        "id": "qwJy2fiRynWx",
        "outputId": "bd2032e3-de36-4bdb-cb74-5b375fbe0772"
      },
      "outputs": [
        {
          "output_type": "stream",
          "name": "stdout",
          "text": [
            "Iterating over list of tuples:\n",
            "(1, 2)\n",
            "(3, 4)\n",
            "(5, 6)\n",
            "(7, 8)\n",
            "(9, 10)\n",
            "Iterating over list of lists:\n",
            "[1, 2]\n",
            "[3, 4]\n",
            "[5, 6]\n",
            "[7, 8]\n",
            "[9, 10]\n"
          ]
        }
      ],
      "source": [
        "# Creating a list of tuples\n",
        "points_tuples = [(1, 2), (3, 4), (5, 6), (7, 8), (9, 10)]\n",
        "\n",
        "# Creating a list of lists\n",
        "points_lists = [[1, 2], [3, 4], [5, 6], [7, 8], [9, 10]]\n",
        "\n",
        "# Iterating over the list of tuples\n",
        "print(\"Iterating over list of tuples:\")\n",
        "for point in points_tuples:\n",
        "    print(point)\n",
        "\n",
        "# Iterating over the list of lists\n",
        "print(\"Iterating over list of lists:\")\n",
        "for point in points_lists:\n",
        "    print(point)\n"
      ]
    },
    {
      "cell_type": "markdown",
      "source": [
        "# Task 2\n",
        "Provide an example of how you would store spatial data in a list of dictionaries data structure, for these 5 point coordinates (e.g., Points of Interest)."
      ],
      "metadata": {
        "id": "8EbylKh_zfHd"
      }
    },
    {
      "cell_type": "code",
      "source": [
        "# List of 5 point coordinates\n",
        "points_of_interest = [\n",
        "    {'id': 1, 'x': 11.90, 'y': 33.20},\n",
        "    {'id': 2, 'x': 45.16, 'y': 23.95},\n",
        "    {'id': 3, 'x': 38.04, 'y': 60.89},\n",
        "    {'id': 4, 'x': 20.45, 'y': 10.38},\n",
        "    {'id': 5, 'x': 22.60, 'y': 60.24}\n",
        "]\n",
        "\n",
        "# Printing the list of dictionaries\n",
        "for point in points_of_interest:\n",
        "    print(f\"Point {point['id']}: (x = {point['x']}, y = {point['y']})\")\n"
      ],
      "metadata": {
        "colab": {
          "base_uri": "https://localhost:8080/",
          "height": 0
        },
        "id": "-GKcEWVxzO74",
        "outputId": "f9e32b17-01f8-496c-fad4-cc5ec9cb9069"
      },
      "execution_count": 16,
      "outputs": [
        {
          "output_type": "stream",
          "name": "stdout",
          "text": [
            "Point 1: (x = 11.9, y = 33.2)\n",
            "Point 2: (x = 45.16, y = 23.95)\n",
            "Point 3: (x = 38.04, y = 60.89)\n",
            "Point 4: (x = 20.45, y = 10.38)\n",
            "Point 5: (x = 22.6, y = 60.24)\n"
          ]
        }
      ]
    },
    {
      "cell_type": "markdown",
      "source": [
        "# Task 3\n",
        "Take your list of tuples of 5 point coordinates and duplicate two of the items. Iterate over your list, writing logic to check if a set already contains each tuple of point coordinates. If the set does not, add the item to the set."
      ],
      "metadata": {
        "id": "34pSkH06z8my"
      }
    },
    {
      "cell_type": "code",
      "source": [
        "# List of tuples representing 5 point coordinates, with two duplicates\n",
        "point_coordinates = [(1, 2, 3, 4, 5), (6, 7, 8, 9, 10), (11, 12, 13, 14, 15),\n",
        "          (11, 12, 13, 14, 15), (16, 17, 18, 19, 20), (16, 17, 18, 19, 20)]\n",
        "\n",
        "unique_points = set() # Create an empty set to store unique tuples\n",
        "\n",
        "# Iterate over the list\n",
        "for point in point_coordinates:\n",
        "    if point not in unique_points: # Check if the tuple is already in the set\n",
        "       unique_points.add(point) # Add the tuple to the set\n",
        "\n",
        "# Print the unique points\n",
        "print(\"Unique points:\", unique_points)\n"
      ],
      "metadata": {
        "colab": {
          "base_uri": "https://localhost:8080/",
          "height": 0
        },
        "id": "32vYFbUbz005",
        "outputId": "215d932f-2392-48c6-f662-acdac6638c54"
      },
      "execution_count": 17,
      "outputs": [
        {
          "output_type": "stream",
          "name": "stdout",
          "text": [
            "Unique points: {(11, 12, 13, 14, 15), (1, 2, 3, 4, 5), (6, 7, 8, 9, 10), (16, 17, 18, 19, 20)}\n"
          ]
        }
      ]
    },
    {
      "cell_type": "markdown",
      "source": [
        "# Task 4\n",
        "Write a user defined function which accepts a list of dictionaries and prints the length."
      ],
      "metadata": {
        "id": "tEInTg_h0U3D"
      }
    },
    {
      "cell_type": "code",
      "source": [
        "def length_of_list(dict_list):\n",
        "    if isinstance(dict_list, list): # Check if the input is a list\n",
        "        print(\"The length of the list is: {}\".format(len(dict_list)))\n",
        "    else:\n",
        "        print(\"Input is not a list!\")\n",
        "\n",
        "# Example\n",
        "my_list_of_dicts = [{\"name\": \"Arfa\", \"age\": 26}, {\"name\": \"Adam\", \"age\": 23}, {\"name\": \"Alice\", \"age\": 20},{\"name\": \"Alian\", \"age\": 25}]\n",
        "length_of_list(my_list_of_dicts)\n"
      ],
      "metadata": {
        "colab": {
          "base_uri": "https://localhost:8080/",
          "height": 0
        },
        "id": "gYGqvZS-0Y-t",
        "outputId": "b8101166-ccd3-4a27-f2ff-7e5fe7cf7478"
      },
      "execution_count": 18,
      "outputs": [
        {
          "output_type": "stream",
          "name": "stdout",
          "text": [
            "The length of the list is: 4\n"
          ]
        }
      ]
    },
    {
      "cell_type": "markdown",
      "source": [
        "# Task 5\n",
        "For a list of dictionaries containing duplicates, write a user defined function which finds the unique values."
      ],
      "metadata": {
        "id": "tZRfOsCqcF8H"
      }
    },
    {
      "cell_type": "code",
      "source": [
        "def find_unique_values(list_of_dicts, value):\n",
        "    unique_values = set() # Create a set to store unique values\n",
        "\n",
        "    # Iterate over the list of dictionaries\n",
        "    for dictionary in list_of_dicts:\n",
        "        if value in dictionary: # Add the value of the specified key to the set\n",
        "            unique_values.add(dictionary[value])\n",
        "\n",
        "    return list(unique_values) # Convert the set back to a list for output\n",
        "\n",
        "# Example\n",
        "list_of_dicts = [\n",
        "    {'name': 'Arfa', 'age': 26},\n",
        "    {'name': 'Adam', 'age': 23},\n",
        "    {'name': 'Alice', 'age': 20},\n",
        "    {'name': 'Arfa', 'age': 26}\n",
        "]\n",
        "\n",
        "# unique values for the 'name'\n",
        "unique_names = find_unique_values(list_of_dicts, 'name')\n",
        "print(unique_names)\n",
        "\n",
        "# Find unique values for the 'age'\n",
        "unique_ages = find_unique_values(list_of_dicts, 'age')\n",
        "print(unique_ages)\n"
      ],
      "metadata": {
        "colab": {
          "base_uri": "https://localhost:8080/",
          "height": 0
        },
        "id": "8YK3Cnou0qaZ",
        "outputId": "131796fc-b5a2-42e8-b030-90a2c73fb633"
      },
      "execution_count": 19,
      "outputs": [
        {
          "output_type": "stream",
          "name": "stdout",
          "text": [
            "['Adam', 'Alice', 'Arfa']\n",
            "[26, 20, 23]\n"
          ]
        }
      ]
    }
  ]
}