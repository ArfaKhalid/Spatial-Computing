{
  "nbformat": 4,
  "nbformat_minor": 0,
  "metadata": {
    "colab": {
      "provenance": [],
      "authorship_tag": "ABX9TyPuOOV5pihD487LqnODwf2b",
      "include_colab_link": true
    },
    "kernelspec": {
      "name": "python3",
      "display_name": "Python 3"
    },
    "language_info": {
      "name": "python"
    }
  },
  "cells": [
    {
      "cell_type": "markdown",
      "metadata": {
        "id": "view-in-github",
        "colab_type": "text"
      },
      "source": [
        "<a href=\"https://colab.research.google.com/github/ArfaKhalid/Spatial-Computing/blob/main/GGS_590_Assignment_1.ipynb\" target=\"_parent\"><img src=\"https://colab.research.google.com/assets/colab-badge.svg\" alt=\"Open In Colab\"/></a>"
      ]
    },
    {
      "cell_type": "markdown",
      "source": [
        "# Task 1\n",
        "Concatenate four variables into a string, where each variable is a string, float, integer and Boolean. Separate using underscores."
      ],
      "metadata": {
        "id": "2Q-t8qcSOoFm"
      }
    },
    {
      "cell_type": "code",
      "source": [
        "# Define the variables\n",
        "string = \"arfa\"\n",
        "float = 20.5\n",
        "integer = 30\n",
        "boolean = False\n",
        "\n",
        "# Concatenate the variables into a string, separated by underscores\n",
        "result = f\"{string}_{float}_{integer}_{boolean}\"\n",
        "\n",
        "# Print the result\n",
        "print(result)"
      ],
      "metadata": {
        "colab": {
          "base_uri": "https://localhost:8080/",
          "height": 0
        },
        "id": "EnBa3IsNOzmw",
        "outputId": "c53ea16f-8a93-4dba-ce02-f7139b165eaf"
      },
      "execution_count": 53,
      "outputs": [
        {
          "output_type": "stream",
          "name": "stdout",
          "text": [
            "arfa_20.5_30_False\n"
          ]
        }
      ]
    },
    {
      "cell_type": "markdown",
      "source": [
        "# Task 2\n",
        "Write a function which accepts an integer, divides the value by four, and then returns the squared product."
      ],
      "metadata": {
        "id": "MZrS7ntWPb_X"
      }
    },
    {
      "cell_type": "code",
      "source": [
        "def divide_and_square(value):\n",
        "  \"\"\"\n",
        "  Divide the integer by four, square the result, and return the squared product.\n",
        "\n",
        "  Parameters\n",
        "  ----------\n",
        "  value : int\n",
        "    An integer value to be divided by 4 and squared.\n",
        "\n",
        "  Returns\n",
        "  --------\n",
        "  float\n",
        "    The squared result after dividing the input value by 4.\n",
        "  \"\"\"\n",
        "  # Divide the integer by 4\n",
        "  divided_value = value / 4\n",
        "  # Square the result\n",
        "  squared_product = divided_value ** 2\n",
        "  # Return the squared product\n",
        "  return squared_product"
      ],
      "metadata": {
        "id": "0YsAubuZPXrk"
      },
      "execution_count": 54,
      "outputs": []
    },
    {
      "cell_type": "code",
      "source": [
        "# Example\n",
        "result = divide_and_square(20)\n",
        "print(result)"
      ],
      "metadata": {
        "colab": {
          "base_uri": "https://localhost:8080/",
          "height": 0
        },
        "id": "LZGTReRNP8w1",
        "outputId": "d8469e1c-9f14-48b2-ce46-10cd564a6206"
      },
      "execution_count": 55,
      "outputs": [
        {
          "output_type": "stream",
          "name": "stdout",
          "text": [
            "25.0\n"
          ]
        }
      ]
    },
    {
      "cell_type": "markdown",
      "source": [
        "# Task 3\n",
        "Write a function which accepts a float and an integer, cubes both provided values, and returns the summation."
      ],
      "metadata": {
        "id": "ZrKSDTmmQXYb"
      }
    },
    {
      "cell_type": "code",
      "source": [
        "def cube_and_sum(float, integer):\n",
        "    \"\"\"\n",
        "    Cube both the provided float and integer, and return the summation of the cubed values.\n",
        "\n",
        "    Parameters\n",
        "    ----------\n",
        "    float : float\n",
        "        A float value to be cubed.\n",
        "    integer : int\n",
        "        An integer value to be cubed.\n",
        "\n",
        "    Returns\n",
        "    -------\n",
        "    float\n",
        "        The summation of the cubed values of the input float and integer.\n",
        "    \"\"\"\n",
        "    # Cube both the float and the integer\n",
        "    cubed_float = float ** 3\n",
        "    cubed_integer = integer ** 3\n",
        "    # Return the summation of the cubed values\n",
        "    return cubed_float + cubed_integer"
      ],
      "metadata": {
        "id": "hmFvuiF1QFdj"
      },
      "execution_count": 56,
      "outputs": []
    },
    {
      "cell_type": "code",
      "source": [
        "# Example\n",
        "result_1 = cube_and_sum(5.5, 4)\n",
        "print(result_1)"
      ],
      "metadata": {
        "colab": {
          "base_uri": "https://localhost:8080/",
          "height": 0
        },
        "id": "_ffK-zlOQqEn",
        "outputId": "fbb879bc-08c7-41ec-82cf-7880d43a1337"
      },
      "execution_count": 57,
      "outputs": [
        {
          "output_type": "stream",
          "name": "stdout",
          "text": [
            "230.375\n"
          ]
        }
      ]
    },
    {
      "cell_type": "markdown",
      "source": [
        "# Task 4\n",
        "Write a function which accepts a single argument, checks the type to separate out numeric and text values."
      ],
      "metadata": {
        "id": "90HmIlgBbGkg"
      }
    },
    {
      "cell_type": "code",
      "source": [
        "def check_type(value):\n",
        "    \"\"\"\n",
        "    check the type of the provided value and identify it as either \"Numeric value\" or \"Text value\".\n",
        "\n",
        "    Parameters\n",
        "    ----------\n",
        "    value : object\n",
        "        The value to be checked for its type.\n",
        "\n",
        "    Returns\n",
        "    -------\n",
        "    str\n",
        "        A \"Text value\" if the input value is of a string type ,\n",
        "        A \"Numeric value\" if the input value is of a numeric type,\n",
        "        or \"Unknown type\" if the input value is of an unknown type.\n",
        "    \"\"\"\n",
        "    if isinstance(value, (int, float)):  # Check if it's a numeric value\n",
        "        return \"Numeric value\"\n",
        "    elif isinstance(value, str):  # Check if it's a text value\n",
        "        return \"Text value\"\n",
        "    else:\n",
        "        return \"Unknown type\"\n"
      ],
      "metadata": {
        "id": "6vecuoOCbrup"
      },
      "execution_count": 58,
      "outputs": []
    },
    {
      "cell_type": "code",
      "source": [
        "print(check_type(123))\n",
        "print(check_type(4567))"
      ],
      "metadata": {
        "colab": {
          "base_uri": "https://localhost:8080/",
          "height": 0
        },
        "id": "XoQi9_UbfFJz",
        "outputId": "19c02ef5-3723-4218-fd19-8dc97f6bef46"
      },
      "execution_count": 51,
      "outputs": [
        {
          "output_type": "stream",
          "name": "stdout",
          "text": [
            "Numeric value\n",
            "Numeric value\n"
          ]
        }
      ]
    },
    {
      "cell_type": "markdown",
      "source": [
        "# Task 5\n",
        "Ensure all functions comply with PEP8 and PEP 257, with docstrings which fulfil the numpy docstring style. Write a description of how these functions comply, and why this is important."
      ],
      "metadata": {
        "id": "26DuSA8EjK70"
      }
    },
    {
      "cell_type": "markdown",
      "source": [
        "## How functions are complying with PEP 8 and why it is important\n",
        "1. **Function and variable naming:** Functions and variables are named using snake_case (e.g., divide_and_square), which is the standard in PEP 8.\n",
        "2. **Indentation and spacing:** Each function adheres to the four spaces per indentation level rule, and proper spacing is used around operators and within code blocks.\n",
        "3. **Line length:** None of the lines exceed the 79-character limit as recommended by PEP 8, ensuring readability.\n",
        "4. **Readability:** PEP 8 ensures that the code is clean and easy to read, making it easier for others to understand and maintain.\n",
        "5. **Consistency:** Following these guidelines enforces consistency across codebases, which is essential in collaborative environments or open-source projects."
      ],
      "metadata": {
        "id": "7MizdL3zmcjy"
      }
    },
    {
      "cell_type": "markdown",
      "source": [
        "## How functions are complying with PEP 257 and why it is important\n",
        "1. **Docstrings:** Each function includes a docstring that follows the NumPy style. The docstring provides a clear description of the function's purpose, its parameters, and its return value.\n",
        "2. **Sections:** The docstrings include sections like Parameters and Returns, properly formatted with types, and descriptions for each parameter and the return value.\n",
        "3. **Grammar and clarity:** The docstrings are written in complete sentences and provide clear, concise explanations.\n",
        "4. **Docstrings for Documentation:** Complying with PEP 257 and using a structured docstring format like NumPy’s helps generate professional documentation that is easy to navigate. Well-documented functions make it clear what the function does, its inputs, outputs, and edge cases, reducing confusion and errors during implementation.\n",
        "5. **Code Quality:** Writing code in compliance with these standards reflects attention to detail and promotes best practices in software development, contributing to more robust, maintainable, and scalable code."
      ],
      "metadata": {
        "id": "zqn9K-TZnq1C"
      }
    }
  ]
}