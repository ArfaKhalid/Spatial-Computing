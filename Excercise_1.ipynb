{
  "nbformat": 4,
  "nbformat_minor": 0,
  "metadata": {
    "colab": {
      "provenance": [],
      "authorship_tag": "ABX9TyPfSYQDNmT11E0JHzSa1dJ8",
      "include_colab_link": true
    },
    "kernelspec": {
      "name": "python3",
      "display_name": "Python 3"
    },
    "language_info": {
      "name": "python"
    }
  },
  "cells": [
    {
      "cell_type": "markdown",
      "metadata": {
        "id": "view-in-github",
        "colab_type": "text"
      },
      "source": [
        "<a href=\"https://colab.research.google.com/github/ArfaKhalid/Spatial-Computing/blob/main/Excercise_1.ipynb\" target=\"_parent\"><img src=\"https://colab.research.google.com/assets/colab-badge.svg\" alt=\"Open In Colab\"/></a>"
      ]
    },
    {
      "cell_type": "markdown",
      "source": [
        "### **Exercise**\n",
        "\n",
        "Create a new Colab notebook for this task. The aim is for you to apply and reinforce what you have learned here on code/text cells.\n",
        "\n",
        "Your smartwatch has provided you with detailed stepcount data for your day. You want to verify if the calories burned estimate this metric correctly.\n",
        "\n",
        "For your age/body type, you understand you are likely to burn 0.04 calories per step.\n",
        "\n",
        "Do the following for at least 5 daily periods:\n",
        "\n",
        "*   Create a text cell describing an activity period (e.g., walked to class from bus stop), how far you walked (e.g., 1,000 steps), and at what time (e.g., 4pm) (for the purposes of this exercise, please be creative).  \n",
        "*   Then add a code cell below which calculates the calories burned for that period.\n",
        "*   At the end, create a summary cell which summarizes the calories for each period.\n",
        "\n",
        "Use what you have learned in this introductory lecture to properly style your text and code cells, to make the calculations intelligible and clear to an external reviewer."
      ],
      "metadata": {
        "id": "qRd6NbiO10eC"
      }
    },
    {
      "cell_type": "markdown",
      "source": [
        "# Take bus to home ( 5.00am)"
      ],
      "metadata": {
        "id": "eQVHx11szTi3"
      }
    },
    {
      "cell_type": "code",
      "source": [
        "# calories = steps * calories/step\n",
        "calories_burned_11 = 2000 * 0.44\n",
        "print(f\"Calories burned: {calories_burned_11}\")\n"
      ],
      "metadata": {
        "colab": {
          "base_uri": "https://localhost:8080/"
        },
        "id": "AeDAhIzFzYh0",
        "outputId": "0e6df63d-5061-4768-8b2d-44db2d1b96e6"
      },
      "execution_count": 4,
      "outputs": [
        {
          "output_type": "stream",
          "name": "stdout",
          "text": [
            "Calories burned: 880.0\n"
          ]
        }
      ]
    },
    {
      "cell_type": "markdown",
      "source": [
        "# Walk to school (6 am)"
      ],
      "metadata": {
        "id": "qACqkUtTzgZA"
      }
    },
    {
      "cell_type": "code",
      "source": [
        "# calories = steps * calories/step\n",
        "calories_burned_12 = 3000 * 0.44\n",
        "print(f\"Calories burned: {calories_burned_12}\")"
      ],
      "metadata": {
        "colab": {
          "base_uri": "https://localhost:8080/"
        },
        "id": "z7XpujetznJP",
        "outputId": "5ccd49f7-f9c4-470c-db8b-8e9064d776f5"
      },
      "execution_count": 6,
      "outputs": [
        {
          "output_type": "stream",
          "name": "stdout",
          "text": [
            "Calories burned: 1320.0\n"
          ]
        }
      ]
    },
    {
      "cell_type": "markdown",
      "source": [
        "# Walk in Park ( 5pm )"
      ],
      "metadata": {
        "id": "pyWjxBFlzv1J"
      }
    },
    {
      "cell_type": "code",
      "source": [
        "# calories = steps * calories/step\n",
        "calories_burned_13 = 5000 * 0.44\n",
        "print(f\"Calories burned: {calories_burned_13}\")"
      ],
      "metadata": {
        "colab": {
          "base_uri": "https://localhost:8080/"
        },
        "id": "8yxvqlUf0QIk",
        "outputId": "c6378795-55e5-494f-a57f-45d2a2a7bca0"
      },
      "execution_count": 7,
      "outputs": [
        {
          "output_type": "stream",
          "name": "stdout",
          "text": [
            "Calories burned: 2200.0\n"
          ]
        }
      ]
    },
    {
      "cell_type": "markdown",
      "source": [
        "# walk to grocery (8 pm )"
      ],
      "metadata": {
        "id": "54Xxf2S10bNH"
      }
    },
    {
      "cell_type": "code",
      "source": [
        "# calories = steps * calories/step\n",
        "calories_burned_14 = 2000 * 0.44\n",
        "print(f\"Calories burned: {calories_burned_14}\")"
      ],
      "metadata": {
        "colab": {
          "base_uri": "https://localhost:8080/"
        },
        "id": "je4DNP890hZS",
        "outputId": "b826ab03-1208-4f75-98d1-fdb0dfb31515"
      },
      "execution_count": 8,
      "outputs": [
        {
          "output_type": "stream",
          "name": "stdout",
          "text": [
            "Calories burned: 880.0\n"
          ]
        }
      ]
    },
    {
      "cell_type": "markdown",
      "source": [
        "# Morning walk (5am)"
      ],
      "metadata": {
        "id": "NnzOhQvE0noW"
      }
    },
    {
      "cell_type": "code",
      "source": [
        "# calories = steps * calories/step\n",
        "calories_burned_15 = 4500 * 0.44\n",
        "print(f\"Calories burned: {calories_burned_15}\")"
      ],
      "metadata": {
        "colab": {
          "base_uri": "https://localhost:8080/"
        },
        "id": "gx1vypyD0xFO",
        "outputId": "fbdbc0b4-5a74-4347-bfc8-a9910e448b53"
      },
      "execution_count": 9,
      "outputs": [
        {
          "output_type": "stream",
          "name": "stdout",
          "text": [
            "Calories burned: 1980.0\n"
          ]
        }
      ]
    },
    {
      "cell_type": "markdown",
      "source": [
        "# Summary"
      ],
      "metadata": {
        "id": "0v0dbvNU1LVY"
      }
    },
    {
      "cell_type": "code",
      "source": [
        "# Summary\n",
        "Total_Calories_burned = calories_burned_11 + calories_burned_12 + calories_burned_13 + calories_burned_14 + calories_burned_15\n",
        "print(f\"Total Calories Burned: {Total_Calories_burned}\")"
      ],
      "metadata": {
        "colab": {
          "base_uri": "https://localhost:8080/"
        },
        "id": "B-o17Xhh1NbJ",
        "outputId": "97ac1a8f-3c8d-47a3-f284-9feb6a54ae51"
      },
      "execution_count": 10,
      "outputs": [
        {
          "output_type": "stream",
          "name": "stdout",
          "text": [
            "Total Calories Burned: 7260.0\n"
          ]
        }
      ]
    }
  ]
}