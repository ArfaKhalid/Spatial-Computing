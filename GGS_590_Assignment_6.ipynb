{
  "nbformat": 4,
  "nbformat_minor": 0,
  "metadata": {
    "colab": {
      "provenance": [],
      "authorship_tag": "ABX9TyMfK3qAUL73JHKPOjBTkpqq",
      "include_colab_link": true
    },
    "kernelspec": {
      "name": "python3",
      "display_name": "Python 3"
    },
    "language_info": {
      "name": "python"
    }
  },
  "cells": [
    {
      "cell_type": "markdown",
      "metadata": {
        "id": "view-in-github",
        "colab_type": "text"
      },
      "source": [
        "<a href=\"https://colab.research.google.com/github/ArfaKhalid/Spatial-Computing/blob/main/GGS_590_Assignment_6.ipynb\" target=\"_parent\"><img src=\"https://colab.research.google.com/assets/colab-badge.svg\" alt=\"Open In Colab\"/></a>"
      ]
    },
    {
      "cell_type": "markdown",
      "source": [
        "# Task # 1\n",
        "**Write out descriptions for what an object class is, as well as object properties and object methods.**\n",
        "\n",
        "### Object Class:\n",
        "A class is like a blueprint for creating objects. It defines the attributes (properties) and behaviors (methods) that objects of that class can have. For example, if we have a Car class, it might define attributes like color and speed and methods like drive() and stop().\n",
        "\n",
        "### Object Properties:\n",
        "Properties are the characteristics or data that define an object. They are variables tied to an object that store information about it. For example, a Car object might have properties like color = \"blue\" or speed = 80.\n",
        "\n",
        "### Object Methods:\n",
        "Methods are functions tied to an object that define the actions or behaviors the object can perform. For instance, a Car object might have a method called drive() that increases its speed."
      ],
      "metadata": {
        "id": "1Tt0vbQ4ZdaX"
      }
    },
    {
      "cell_type": "markdown",
      "source": [
        "# Task # 2\n",
        "**Write code to create separate classes for a point, line and polygon object. Make sure each object has attributes such as ID, coordinates, and length/area for lines/polygons. The line must have a method which measures its length (either manually, or using Shapely). The polygon must have a method which measures its area (either manually, or using Shapely). Instantiate your objects, and write code to demonstrate their functionality (e.g., measuring length or area).**"
      ],
      "metadata": {
        "id": "aDJ86zkkZbfP"
      }
    },
    {
      "cell_type": "code",
      "execution_count": 3,
      "metadata": {
        "colab": {
          "base_uri": "https://localhost:8080/",
          "height": 0
        },
        "id": "iPSqPvS_ZCqu",
        "outputId": "8453de74-2737-40a2-c56b-601db31dba54"
      },
      "outputs": [
        {
          "output_type": "stream",
          "name": "stdout",
          "text": [
            "Point(ID=1, Coordinates=(1, 1))\n",
            "Line(ID=2, Coordinates=[(2, 3), (0, 2), (7, 3)])\n",
            "Line Length: 9.307135789365265\n",
            "Polygon(ID=3, Coordinates=[(1, 1), (5, 0), (6, 2), (8, 2), (1, 1)])\n",
            "Polygon Area: 3.5\n"
          ]
        }
      ],
      "source": [
        "from shapely.geometry import Point as ShapelyPoint, LineString, Polygon as ShapelyPolygon\n",
        "\n",
        "class Point:\n",
        "    def __init__(self, id, coordinates):\n",
        "        self.id = id\n",
        "        self.coordinates = coordinates\n",
        "\n",
        "    def __str__(self):\n",
        "        return f\"Point(ID={self.id}, Coordinates={self.coordinates})\"\n",
        "\n",
        "\n",
        "class Line:\n",
        "    def __init__(self, id, coordinates):\n",
        "        self.id = id\n",
        "        self.coordinates = coordinates\n",
        "\n",
        "    def length(self):\n",
        "        line = LineString(self.coordinates)\n",
        "        return line.length\n",
        "\n",
        "    def __str__(self):\n",
        "        return f\"Line(ID={self.id}, Coordinates={self.coordinates})\"\n",
        "\n",
        "\n",
        "class Polygon:\n",
        "    def __init__(self, id, coordinates):\n",
        "        self.id = id\n",
        "        self.coordinates = coordinates\n",
        "\n",
        "    def area(self):\n",
        "        polygon = ShapelyPolygon(self.coordinates)\n",
        "        return polygon.area\n",
        "\n",
        "    def __str__(self):\n",
        "        return f\"Polygon(ID={self.id}, Coordinates={self.coordinates})\"\n",
        "\n",
        "\n",
        "# Instantiate objects\n",
        "point = Point(1, (1, 1))\n",
        "line = Line(2, [(2, 3), (0, 2), (7, 3)])\n",
        "polygon = Polygon(3, [(1, 1), (5, 0), (6, 2), (8, 2), (1, 1)])\n",
        "\n",
        "# Functionality\n",
        "print(point)\n",
        "print(line)\n",
        "print(\"Line Length:\", line.length())\n",
        "print(polygon)\n",
        "print(\"Polygon Area:\", polygon.area())\n"
      ]
    },
    {
      "cell_type": "markdown",
      "source": [
        "# Task # 3\n",
        "**Explain to a child, using metaphor, some of the key theoretical concepts of Object Oriented Programming, including encapsulation, inheritance, polymorphism, and abstraction. Good answers will include code descriptions, not just natural language.**"
      ],
      "metadata": {
        "id": "qCWF_7VPcCdj"
      }
    },
    {
      "cell_type": "markdown",
      "source": [
        "1. Encapsulation:\n",
        "\n",
        "Encapsulation is like a lunchbox. The lunchbox keeps the sandwich, fruit, and juice inside, safe and secure. We can only get to the food by opening the lunchbox the right way. This is how encapsulation works in programming—it keeps things inside an object safe and lets you access them in specific, controlled ways."
      ],
      "metadata": {
        "id": "SuPUWrWKdUTQ"
      }
    },
    {
      "cell_type": "code",
      "source": [
        "class LunchBox:\n",
        "    def __init__(self):\n",
        "        self.__contents = [\"Sandwich\", \"Apple\", \"Juice\"]  # Hidden items\n",
        "\n",
        "    def get_contents(self):\n",
        "        return self.__contents  # Only method to see the contents\n",
        "\n",
        "my_lunch = LunchBox()\n",
        "print(my_lunch.get_contents())\n"
      ],
      "metadata": {
        "colab": {
          "base_uri": "https://localhost:8080/",
          "height": 0
        },
        "id": "99khtL-YbIOw",
        "outputId": "0070c4e6-2bb3-43cc-e173-05e399dd70aa"
      },
      "execution_count": 4,
      "outputs": [
        {
          "output_type": "stream",
          "name": "stdout",
          "text": [
            "['Sandwich', 'Apple', 'Juice']\n"
          ]
        }
      ]
    },
    {
      "cell_type": "markdown",
      "source": [
        "2. Inheritance:\n",
        "\n",
        "For example, a family recipe for cookies. Grandma has a special cookie recipe (the parent class), and her daughter can use it to bake cookies too. But Mom might add sprinkles or chocolate chips (the child class), making your cookies unique but still based on grandma’s recipe."
      ],
      "metadata": {
        "id": "UMoqckULeu0f"
      }
    },
    {
      "cell_type": "code",
      "source": [
        "class CookieRecipe:\n",
        "    def ingredients(self):\n",
        "        return \"Flour, Sugar, Butter\"\n",
        "\n",
        "class ChocolateChipCookie(CookieRecipe):\n",
        "    def ingredients(self):\n",
        "        return super().ingredients() + \", Chocolate Chips\"\n",
        "\n",
        "my_cookie = ChocolateChipCookie()\n",
        "print(my_cookie.ingredients())  # Flour, Sugar, Butter, Chocolate Chips\n"
      ],
      "metadata": {
        "colab": {
          "base_uri": "https://localhost:8080/",
          "height": 0
        },
        "id": "cM6CCYXbel8L",
        "outputId": "eb9bba41-a538-4ee9-d16a-8cbc156fe661"
      },
      "execution_count": 5,
      "outputs": [
        {
          "output_type": "stream",
          "name": "stdout",
          "text": [
            "Flour, Sugar, Butter, Chocolate Chips\n"
          ]
        }
      ]
    },
    {
      "cell_type": "markdown",
      "source": [
        "3. Polymorphism:\n",
        "\n",
        "For example, a superhero mask. When we wear it, we can become different superheroes: Spider-Man swings, Superman flies, and Batman fights bad guys. The same mask can act in many different ways, just like polymorphism lets one function work differently depending on the object."
      ],
      "metadata": {
        "id": "ghJiculjfrha"
      }
    },
    {
      "cell_type": "code",
      "source": [
        "class Superhero:\n",
        "    def use_power(self):\n",
        "        pass\n",
        "\n",
        "class SpiderMan(Superhero):\n",
        "    def use_power(self):\n",
        "        return \"Swinging on webs!\"\n",
        "\n",
        "class Superman(Superhero):\n",
        "    def use_power(self):\n",
        "        return \"Flying through the sky!\"\n",
        "\n",
        "def show_power(hero):\n",
        "    print(hero.use_power())\n",
        "\n",
        "spider = SpiderMan()\n",
        "superman = Superman()\n",
        "show_power(spider)\n",
        "show_power(superman)\n"
      ],
      "metadata": {
        "colab": {
          "base_uri": "https://localhost:8080/",
          "height": 0
        },
        "id": "jAIdYOhsfZzg",
        "outputId": "88c4f710-e55e-4ca8-8c45-78b832916277"
      },
      "execution_count": 6,
      "outputs": [
        {
          "output_type": "stream",
          "name": "stdout",
          "text": [
            "Swinging on webs!\n",
            "Flying through the sky!\n"
          ]
        }
      ]
    },
    {
      "cell_type": "markdown",
      "source": [
        "4. Abstraction:\n",
        "\n",
        "For instance, a video game controller. We press a button to make our character jump, but we don’t need to know how the electronics inside the controller work. Abstraction hides the complicated stuff and only shows you what you need to know to use it."
      ],
      "metadata": {
        "id": "tk0_k5N6f_l6"
      }
    },
    {
      "cell_type": "code",
      "source": [
        "from abc import ABC, abstractmethod\n",
        "\n",
        "class VideoGame(ABC):\n",
        "    @abstractmethod\n",
        "    def start_game(self):\n",
        "        pass\n",
        "\n",
        "class MarioGame(VideoGame):\n",
        "    def start_game(self):\n",
        "        return \"Starting Mario Game!\"\n",
        "\n",
        "class ZeldaGame(VideoGame):\n",
        "    def start_game(self):\n",
        "        return \"Starting Zelda Game!\"\n",
        "\n",
        "game = MarioGame()\n",
        "print(game.start_game())\n"
      ],
      "metadata": {
        "colab": {
          "base_uri": "https://localhost:8080/",
          "height": 0
        },
        "id": "VRWVjKLFf95X",
        "outputId": "f00f7d12-e722-4664-b064-bd96afcca367"
      },
      "execution_count": 7,
      "outputs": [
        {
          "output_type": "stream",
          "name": "stdout",
          "text": [
            "Starting Mario Game!\n"
          ]
        }
      ]
    }
  ]
}